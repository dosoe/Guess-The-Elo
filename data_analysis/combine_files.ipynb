{
 "cells": [
  {
   "cell_type": "code",
   "execution_count": null,
   "metadata": {},
   "outputs": [],
   "source": [
    "import pandas as pd\n",
    "import glob\n",
    "import os"
   ]
  },
  {
   "cell_type": "markdown",
   "metadata": {},
   "source": [
    "### Concatenate Game Files\n",
    "\n",
    "Concatenates all analyzed and cleaned game files into one big game file, modifying GameIDs so that they stay unique. \n",
    "\n",
    "As an example and to limit CPU usage, only files with depth 20 are used here. "
   ]
  },
  {
   "cell_type": "code",
   "execution_count": null,
   "metadata": {},
   "outputs": [],
   "source": [
    "def combine_csv_files_with_unique_gameid(input_directory, output_file):\n",
    "    \"\"\"\n",
    "    Combines all analyzed CSV files in the specified directory into a single CSV file,\n",
    "    adjusting the GameID to ensure uniqueness across all files.\n",
    "\n",
    "    Parameters:\n",
    "    - input_directory (str): The directory containing the CSV files to combine.\n",
    "    - output_file (str): The path to the output CSV file.\n",
    "    \"\"\"\n",
    "    # Define patterns to match your file names\n",
    "    patterns = [\n",
    "        #os.path.join(input_directory, \"twic*_analyzed.csv\"),\n",
    "        os.path.join(input_directory, \"twic*_20_processed.csv\"),\n",
    "    ]\n",
    "\n",
    "    # Collect all matching files\n",
    "    csv_files = []\n",
    "    for pattern in patterns:\n",
    "        matched_files = glob.glob(pattern)\n",
    "        csv_files.extend(matched_files)\n",
    "\n",
    "    # Remove duplicates (if any)\n",
    "    csv_files = list(set(csv_files))\n",
    "\n",
    "    # Sort files by name to maintain order\n",
    "    csv_files.sort()\n",
    "\n",
    "    # Initialize variables\n",
    "    df_list = []\n",
    "    total_games_processed = 0  # Keeps track of the total number of games processed so far\n",
    "\n",
    "    for file in csv_files:\n",
    "        try:\n",
    "            df = pd.read_csv(file)\n",
    "\n",
    "            # Check if 'GameID' column exists\n",
    "            if 'GameID' not in df.columns:\n",
    "                print(f\"'GameID' column not found in {file}. Skipping file.\")\n",
    "                continue\n",
    "\n",
    "            # Get the number of unique games in this file\n",
    "            unique_game_ids = df['GameID'].nunique()\n",
    "\n",
    "            # Adjust the GameID by adding total_games_processed\n",
    "            df['GameID'] += total_games_processed\n",
    "\n",
    "            # Update total_games_processed\n",
    "            total_games_processed += unique_game_ids\n",
    "\n",
    "            df_list.append(df)\n",
    "            print(f\"Processed {file}: {unique_game_ids} games.\")\n",
    "        except Exception as e:\n",
    "            print(f\"Failed to read {file}: {e}\")\n",
    "\n",
    "    # Concatenate all dataframes\n",
    "    if df_list:\n",
    "        combined_df = pd.concat(df_list, ignore_index=True)\n",
    "        combined_df.to_csv(output_file, index=False)\n",
    "        print(f\"Combined {len(df_list)} files into {output_file} with {total_games_processed} unique games.\")\n",
    "    else:\n",
    "        print(\"No files were combined.\")"
   ]
  },
  {
   "cell_type": "code",
   "execution_count": null,
   "metadata": {},
   "outputs": [],
   "source": [
    "input_directory = \"../Cleaned_Analyzed_Games\" \n",
    "output_file = \"../huge_analyzed_games/combined_analyzed_games_20.csv\"\n",
    "combine_csv_files_with_unique_gameid(input_directory, output_file)"
   ]
  },
  {
   "cell_type": "code",
   "execution_count": null,
   "metadata": {},
   "outputs": [],
   "source": [
    "def combine_pgn_files(input_directory, output_file, start_num=920, end_num=1560):\n",
    "    \"\"\"\n",
    "    Combines multiple PGN files into a single PGN file.\n",
    "\n",
    "    Parameters:\n",
    "    - input_directory (str): Directory where the PGN files are located.\n",
    "    - output_file (str): Path to the combined PGN output file.\n",
    "    - start_num (int): Starting number in the file names.\n",
    "    - end_num (int): Ending number in the file names.\n",
    "    \"\"\"\n",
    "    with open(output_file, 'w', encoding='utf-8') as outfile:\n",
    "        for num in range(start_num, end_num + 1):\n",
    "            filename = os.path.join(input_directory, f\"twic{num}.pgn\")\n",
    "            if os.path.exists(filename):\n",
    "                try:\n",
    "                    with open(filename, 'r', encoding='utf-8') as infile:\n",
    "                        contents = infile.read()\n",
    "                        outfile.write(contents)\n",
    "                        # Ensure separation between games from different files\n",
    "                        outfile.write('\\n\\n')\n",
    "                    print(f\"Added {filename}\")\n",
    "                except Exception as e:\n",
    "                    print(f\"Failed to read {filename}: {e}\")\n",
    "            else:\n",
    "                print(f\"File {filename} does not exist. Skipping.\")\n",
    "    print(f\"Combined PGN files into {output_file}\")\n",
    "\n",
    "# Example usage:\n",
    "input_directory = \"../utf8_games\"  # Replace with the path to your PGN files\n",
    "output_file = \"../combined_games.pgn\"          # The output file where combined PGNs will be saved\n",
    "combine_pgn_files(input_directory, output_file)\n"
   ]
  },
  {
   "cell_type": "code",
   "execution_count": null,
   "metadata": {},
   "outputs": [],
   "source": [
    "def count_games_in_pgn_file(pgn_file):\n",
    "    count = 0\n",
    "    with open(pgn_file, 'r', encoding='utf-8') as f:\n",
    "        for line in f:\n",
    "            if line.startswith('[Event '):\n",
    "                count += 1\n",
    "    print(f\"Total number of games in {pgn_file}: {count}\")\n",
    "    return count\n",
    "\n",
    "# Example usage:\n",
    "pgn_file = \"../combined_games.pgn\"\n",
    "count_games_in_pgn_file(pgn_file)\n"
   ]
  }
 ],
 "metadata": {
  "kernelspec": {
   "display_name": "guess_the_elo-env",
   "language": "python",
   "name": "python3"
  },
  "language_info": {
   "codemirror_mode": {
    "name": "ipython",
    "version": 3
   },
   "file_extension": ".py",
   "mimetype": "text/x-python",
   "name": "python",
   "nbconvert_exporter": "python",
   "pygments_lexer": "ipython3",
   "version": "3.12.7"
  }
 },
 "nbformat": 4,
 "nbformat_minor": 2
}
