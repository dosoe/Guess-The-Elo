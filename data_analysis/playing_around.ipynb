{
 "cells": [
  {
   "cell_type": "code",
   "execution_count": 7,
   "metadata": {},
   "outputs": [],
   "source": [
    "import pandas as pd"
   ]
  },
  {
   "cell_type": "code",
   "execution_count": 27,
   "metadata": {},
   "outputs": [
    {
     "data": {
      "text/html": [
       "<div>\n",
       "<style scoped>\n",
       "    .dataframe tbody tr th:only-of-type {\n",
       "        vertical-align: middle;\n",
       "    }\n",
       "\n",
       "    .dataframe tbody tr th {\n",
       "        vertical-align: top;\n",
       "    }\n",
       "\n",
       "    .dataframe thead th {\n",
       "        text-align: right;\n",
       "    }\n",
       "</style>\n",
       "<table border=\"1\" class=\"dataframe\">\n",
       "  <thead>\n",
       "    <tr style=\"text-align: right;\">\n",
       "      <th></th>\n",
       "      <th>GameID</th>\n",
       "      <th>WhiteName</th>\n",
       "      <th>WhiteElo</th>\n",
       "      <th>BlackName</th>\n",
       "      <th>BlackElo</th>\n",
       "      <th>Year</th>\n",
       "      <th>Opening</th>\n",
       "      <th>Variation</th>\n",
       "      <th>Average_CPL_White</th>\n",
       "      <th>Average_CPL_Black</th>\n",
       "      <th>MoveNumber</th>\n",
       "      <th>Move</th>\n",
       "      <th>CPL</th>\n",
       "    </tr>\n",
       "  </thead>\n",
       "  <tbody>\n",
       "    <tr>\n",
       "      <th>0</th>\n",
       "      <td>1</td>\n",
       "      <td>Piccoli,Lucas Fonseca</td>\n",
       "      <td>2221.0</td>\n",
       "      <td>Starke,Bruno Orlando</td>\n",
       "      <td>2102.0</td>\n",
       "      <td>2023.0</td>\n",
       "      <td>Sicilian</td>\n",
       "      <td>Labourdonnais-Loewenthal (Kalashnikov) variation</td>\n",
       "      <td>3137.62</td>\n",
       "      <td>3036.0</td>\n",
       "      <td>1.0</td>\n",
       "      <td>e4</td>\n",
       "      <td>0.0</td>\n",
       "    </tr>\n",
       "    <tr>\n",
       "      <th>1</th>\n",
       "      <td>1</td>\n",
       "      <td>NaN</td>\n",
       "      <td>NaN</td>\n",
       "      <td>NaN</td>\n",
       "      <td>NaN</td>\n",
       "      <td>NaN</td>\n",
       "      <td>NaN</td>\n",
       "      <td>NaN</td>\n",
       "      <td>NaN</td>\n",
       "      <td>NaN</td>\n",
       "      <td>2.0</td>\n",
       "      <td>c5</td>\n",
       "      <td>3.0</td>\n",
       "    </tr>\n",
       "    <tr>\n",
       "      <th>2</th>\n",
       "      <td>1</td>\n",
       "      <td>NaN</td>\n",
       "      <td>NaN</td>\n",
       "      <td>NaN</td>\n",
       "      <td>NaN</td>\n",
       "      <td>NaN</td>\n",
       "      <td>NaN</td>\n",
       "      <td>NaN</td>\n",
       "      <td>NaN</td>\n",
       "      <td>NaN</td>\n",
       "      <td>3.0</td>\n",
       "      <td>Nf3</td>\n",
       "      <td>1.0</td>\n",
       "    </tr>\n",
       "    <tr>\n",
       "      <th>3</th>\n",
       "      <td>1</td>\n",
       "      <td>NaN</td>\n",
       "      <td>NaN</td>\n",
       "      <td>NaN</td>\n",
       "      <td>NaN</td>\n",
       "      <td>NaN</td>\n",
       "      <td>NaN</td>\n",
       "      <td>NaN</td>\n",
       "      <td>NaN</td>\n",
       "      <td>NaN</td>\n",
       "      <td>4.0</td>\n",
       "      <td>Nc6</td>\n",
       "      <td>3.0</td>\n",
       "    </tr>\n",
       "    <tr>\n",
       "      <th>4</th>\n",
       "      <td>1</td>\n",
       "      <td>NaN</td>\n",
       "      <td>NaN</td>\n",
       "      <td>NaN</td>\n",
       "      <td>NaN</td>\n",
       "      <td>NaN</td>\n",
       "      <td>NaN</td>\n",
       "      <td>NaN</td>\n",
       "      <td>NaN</td>\n",
       "      <td>NaN</td>\n",
       "      <td>5.0</td>\n",
       "      <td>d4</td>\n",
       "      <td>3.0</td>\n",
       "    </tr>\n",
       "  </tbody>\n",
       "</table>\n",
       "</div>"
      ],
      "text/plain": [
       "   GameID              WhiteName  WhiteElo             BlackName  BlackElo  \\\n",
       "0       1  Piccoli,Lucas Fonseca    2221.0  Starke,Bruno Orlando    2102.0   \n",
       "1       1                    NaN       NaN                   NaN       NaN   \n",
       "2       1                    NaN       NaN                   NaN       NaN   \n",
       "3       1                    NaN       NaN                   NaN       NaN   \n",
       "4       1                    NaN       NaN                   NaN       NaN   \n",
       "\n",
       "     Year   Opening                                         Variation  \\\n",
       "0  2023.0  Sicilian  Labourdonnais-Loewenthal (Kalashnikov) variation   \n",
       "1     NaN       NaN                                               NaN   \n",
       "2     NaN       NaN                                               NaN   \n",
       "3     NaN       NaN                                               NaN   \n",
       "4     NaN       NaN                                               NaN   \n",
       "\n",
       "   Average_CPL_White  Average_CPL_Black  MoveNumber Move  CPL  \n",
       "0            3137.62             3036.0         1.0   e4  0.0  \n",
       "1                NaN                NaN         2.0   c5  3.0  \n",
       "2                NaN                NaN         3.0  Nf3  1.0  \n",
       "3                NaN                NaN         4.0  Nc6  3.0  \n",
       "4                NaN                NaN         5.0   d4  3.0  "
      ]
     },
     "execution_count": 27,
     "metadata": {},
     "output_type": "execute_result"
    }
   ],
   "source": [
    "df=pd.read_csv(\"../Analyzed_Games/example2_analyzed.csv\")\n",
    "df.head(5)"
   ]
  },
  {
   "cell_type": "code",
   "execution_count": 28,
   "metadata": {},
   "outputs": [
    {
     "data": {
      "text/plain": [
       "3086.0307692307692"
      ]
     },
     "execution_count": 28,
     "metadata": {},
     "output_type": "execute_result"
    }
   ],
   "source": [
    "df.CPL.mean()"
   ]
  }
 ],
 "metadata": {
  "kernelspec": {
   "display_name": "guess_the_elo-env",
   "language": "python",
   "name": "python3"
  },
  "language_info": {
   "codemirror_mode": {
    "name": "ipython",
    "version": 3
   },
   "file_extension": ".py",
   "mimetype": "text/x-python",
   "name": "python",
   "nbconvert_exporter": "python",
   "pygments_lexer": "ipython3",
   "version": "3.12.7"
  }
 },
 "nbformat": 4,
 "nbformat_minor": 2
}
