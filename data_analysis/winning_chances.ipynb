{
 "cells": [
  {
   "cell_type": "code",
   "execution_count": null,
   "metadata": {},
   "outputs": [],
   "source": [
    "import pandas as pd\n",
    "import numpy as np\n",
    "import glob, os\n",
    "import anal_games, functions_anal\n",
    "from sklearn.model_selection import train_test_split\n",
    "import winning_chances"
   ]
  },
  {
   "cell_type": "markdown",
   "metadata": {},
   "source": [
    "# Calculate Winning Chance for each position"
   ]
  },
  {
   "cell_type": "markdown",
   "metadata": {},
   "source": [
    "Make list of games, train-test split"
   ]
  },
  {
   "cell_type": "code",
   "execution_count": null,
   "metadata": {},
   "outputs": [],
   "source": [
    "outfile='../Cleaned_Analyzed_Games/all_games_cleaned.csv'\n",
    "\n",
    "# make list of games, cleaned, count moves\n",
    "anal_games.process_all_files(outfile=outfile,filenames=[\"../huge_analyzed_games/combined_analyzed_games.csv\"],functions=[functions_anal.MovesTotal,functions_anal.Cleanup,functions_anal.MovesBlack,functions_anal.MovesWhite],skip_if_processed=True,game_wise=True)\n",
    "\n",
    "df=pd.read_csv(outfile)\n",
    "\n",
    "# Train Test split\n",
    "df_train,df_test=train_test_split(df,test_size=0.2,random_state=42) # stratification with number of moves or elos doesn't work, as it needs at least two games for each unique value/combination of values. Binning doesn't help\n",
    "\n",
    "# save training set \n",
    "df_train.to_csv('../Cleaned_Analyzed_Games/all_games_cleaned_train.csv',index=False)\n",
    "df_test.to_csv('../Cleaned_Analyzed_Games/all_games_cleaned_test.csv',index=False)"
   ]
  },
  {
   "cell_type": "markdown",
   "metadata": {},
   "source": [
    "For each move, bin the evaluation based on the outcome of the game. This will give us the winning and losing chance for a given evaluation. "
   ]
  },
  {
   "cell_type": "code",
   "execution_count": null,
   "metadata": {},
   "outputs": [],
   "source": [
    "# output files for winning chances\n",
    "file_prefix='../Cleaned_Analyzed_Games/winning_chances_'\n",
    "file_suffix='.csv'\n",
    "\n",
    "# make bins for evaluations\n",
    "bins=np.arange(-20.05,20.15,0.1)\n",
    "\n",
    "# Get maximum number of moves\n",
    "df=pd.read_csv('../Cleaned_Analyzed_Games/all_games_cleaned_train.csv')\n",
    "\n",
    "# make array for winning chances\n",
    "winchance_array=np.zeros((3,len(bins)+2)) # 3 for win, draw and loss, +2 to account for values out of bounds\n",
    "count_games=np.zeros((len(bins)+2))\n",
    "\n",
    "for file in df_train['File'].unique(): # loop over files\n",
    "    print(file)\n",
    "    data=pd.read_csv(file)\n",
    "    df_file=df_train.where(df_train['File']==file) # check which training games are in that file\n",
    "    df_file.dropna(how='any',inplace=True)\n",
    "    for line in df_file.iterrows(): # loop over games in training set from that file\n",
    "        data_line=line[1]\n",
    "        file=data_line['File']\n",
    "        ind=data_line['LineStart'] # starting line for the game\n",
    "        assert data.loc[ind, \"GameID\"]==data_line['GameID'] # sanity checks\n",
    "        assert not np.isnan(data.loc[ind, \"WhiteElo\"]) # sanity checks\n",
    "        ind,game=anal_games.read_game(data,ind,functions=[],game_wise=False) # reads a game, rejects it if invalid, outputs a game dictionary\n",
    "\n",
    "        if game is None or winning_chances.get_outcome_num(game) is None: # sanity check, should be taken care of earlier\n",
    "            continue\n",
    "        for j in range(len(game['Move'])): # bin output and move evaluation\n",
    "            i_bin=np.digitize(game['Evaluation'][j],bins=bins)\n",
    "            winchance_array[winning_chances.get_outcome_num(game),i_bin]+=1\n",
    "            count_games[i_bin]+=1\n",
    "\n",
    "for i in range(3): # normalize win chance array\n",
    "    winchance_array[i,:,:]=np.divide(winchance_array[i,:],count_games)*100\n",
    "\n",
    "\n",
    "out_line=winchance_array\n",
    "out_line=winning_chances.smooth_lines(winchance_array,count_games,bins) # smooth win chance array to give values to evaluations where we don't have games\n",
    "\n",
    "# transform output into DataFrame and save\n",
    "bins_new=bins.tolist()\n",
    "bins_new.insert(0,'-20-')\n",
    "bins_new.append('20+')\n",
    "data=pd.DataFrame({'bins':bins_new,'WinningChance':out_line[0,:],\n",
    "                    'DrawChance':out_line[1,:],\n",
    "                    'LosingChance':out_line[2,:],\n",
    "                    'TotalGames':count_games[:,i]})\n",
    "data=data[['bins','WinningChance','DrawChance','LosingChance','TotalGames']]\n",
    "data.to_csv(file_prefix+'all_moves'+file_suffix,index=False)"
   ]
  },
  {
   "cell_type": "markdown",
   "metadata": {},
   "source": [
    "Calculate the Winning Chance loss at every move by making the difference between the winning chance before and after the move"
   ]
  },
  {
   "cell_type": "code",
   "execution_count": null,
   "metadata": {},
   "outputs": [],
   "source": [
    "all_games_file = \"../huge_analyzed_games/combined_analyzed_games.csv\"\n",
    "all_games=pd.read_csv(all_games_file)\n",
    "\n",
    "winning_chances.process_chess_data(all_games,winning_chance_table=file_prefix+'all_moves'+file_suffix,intervals=bins)"
   ]
  },
  {
   "cell_type": "markdown",
   "metadata": {},
   "source": [
    "Bin the Winning Chance Loss in mistake bins"
   ]
  },
  {
   "cell_type": "code",
   "execution_count": null,
   "metadata": {},
   "outputs": [],
   "source": [
    "mistake_bins= [5, 10, 15, 20, 25, 30, 35, 40, 50, 60, 70, 100]\n",
    "summary_table=winning_chances.create_summary_table(df,mistake_bins=mistake_bins)\n",
    "summary_table.to_csv(\"../huge_analyzed_games/big_summary_table.csv\")"
   ]
  }
 ],
 "metadata": {
  "kernelspec": {
   "display_name": "guess_the_elo-env",
   "language": "python",
   "name": "python3"
  },
  "language_info": {
   "codemirror_mode": {
    "name": "ipython",
    "version": 3
   },
   "file_extension": ".py",
   "mimetype": "text/x-python",
   "name": "python",
   "nbconvert_exporter": "python",
   "pygments_lexer": "ipython3",
   "version": "3.12.7"
  }
 },
 "nbformat": 4,
 "nbformat_minor": 2
}
