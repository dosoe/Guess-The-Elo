{
 "cells": [
  {
   "cell_type": "code",
   "execution_count": 11,
   "metadata": {},
   "outputs": [
    {
     "name": "stdout",
     "output_type": "stream",
     "text": [
      "The combined PGN file contains 2900380 games.\n"
     ]
    }
   ],
   "source": [
    "def count_games_in_pgn(pgn_file):\n",
    "    game_count = 0\n",
    "    with open(pgn_file, 'r', encoding='utf-8') as f:\n",
    "        for line in f:\n",
    "            if line.startswith(\"[Event \"):  # Each game starts with the \"[Event ...\" tag\n",
    "                game_count += 1\n",
    "    return game_count\n",
    "\n",
    "# Example usage:\n",
    "pgn_file = \"../combined_games.pgn\"  # The combined PGN file\n",
    "num_games = count_games_in_pgn(pgn_file)\n",
    "\n",
    "print(f\"The combined PGN file contains {num_games} games.\")\n"
   ]
  }
 ],
 "metadata": {
  "kernelspec": {
   "display_name": "guess_the_elo-env",
   "language": "python",
   "name": "python3"
  },
  "language_info": {
   "codemirror_mode": {
    "name": "ipython",
    "version": 3
   },
   "file_extension": ".py",
   "mimetype": "text/x-python",
   "name": "python",
   "nbconvert_exporter": "python",
   "pygments_lexer": "ipython3",
   "version": "3.12.7"
  }
 },
 "nbformat": 4,
 "nbformat_minor": 2
}
