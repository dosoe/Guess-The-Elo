{
 "cells": [
  {
   "cell_type": "code",
   "execution_count": 32,
   "metadata": {},
   "outputs": [
    {
     "name": "stdout",
     "output_type": "stream",
     "text": [
      "The combined PGN file contains 2817287 games.\n"
     ]
    }
   ],
   "source": [
    "def count_games_in_pgn(pgn_file):\n",
    "    game_count = 0\n",
    "    with open(pgn_file, 'r', encoding='utf-8') as f:\n",
    "        for line in f:\n",
    "            if line.startswith(\"[Event \"):  # Each game starts with the \"[Event ...\" tag\n",
    "                game_count += 1\n",
    "    return game_count\n",
    "\n",
    "# Example usage:\n",
    "pgn_file = \"../combined_games.pgn\"  # The combined PGN file\n",
    "num_games = count_games_in_pgn(pgn_file)\n",
    "\n",
    "print(f\"The combined PGN file contains {num_games} games.\")\n"
   ]
  },
  {
   "cell_type": "code",
   "execution_count": 3,
   "metadata": {},
   "outputs": [
    {
     "name": "stdout",
     "output_type": "stream",
     "text": [
      "Collecting chardet\n",
      "  Downloading chardet-5.2.0-py3-none-any.whl.metadata (3.4 kB)\n",
      "Downloading chardet-5.2.0-py3-none-any.whl (199 kB)\n",
      "Installing collected packages: chardet\n",
      "Successfully installed chardet-5.2.0\n",
      "Note: you may need to restart the kernel to use updated packages.\n"
     ]
    }
   ],
   "source": [
    "pip install chardet"
   ]
  },
  {
   "cell_type": "code",
   "execution_count": 6,
   "metadata": {},
   "outputs": [
    {
     "name": "stdout",
     "output_type": "stream",
     "text": [
      "Detected encoding for ../huge1pgn.pgn: ascii with confidence 1.0\n"
     ]
    },
    {
     "data": {
      "text/plain": [
       "'ascii'"
      ]
     },
     "execution_count": 6,
     "metadata": {},
     "output_type": "execute_result"
    }
   ],
   "source": [
    "# detect_encoding.py\n",
    "\n",
    "import chardet\n",
    "\n",
    "def detect_file_encoding(file_path, num_bytes=100000):\n",
    "    \"\"\"\n",
    "    Detects the encoding of a file using chardet.\n",
    "\n",
    "    Parameters:\n",
    "    - file_path (str): Path to the file.\n",
    "    - num_bytes (int): Number of bytes to read for detection.\n",
    "\n",
    "    Returns:\n",
    "    - str: Detected encoding or 'utf-8' as default.\n",
    "    \"\"\"\n",
    "    try:\n",
    "        with open(file_path, 'rb') as f:\n",
    "            rawdata = f.read(num_bytes)\n",
    "        result = chardet.detect(rawdata)\n",
    "        encoding = result['encoding']\n",
    "        confidence = result['confidence']\n",
    "        print(f\"Detected encoding for {file_path}: {encoding} with confidence {confidence}\")\n",
    "        return encoding if encoding else 'utf-8'\n",
    "    except Exception as e:\n",
    "        print(f\"Failed to detect encoding for {file_path}: {e}\")\n",
    "        return 'utf-8'\n",
    "\n",
    "detect_file_encoding(\"../huge1pgn.pgn\")"
   ]
  },
  {
   "cell_type": "code",
   "execution_count": 18,
   "metadata": {},
   "outputs": [],
   "source": [
    "def reencode_file_to_utf8(input_path, output_path, original_encoding='latin-1'):\n",
    "    try:\n",
    "        with open(input_path, 'r', encoding=original_encoding, errors='replace') as infile:\n",
    "            content = infile.read()\n",
    "        with open(output_path, 'w', encoding='utf-8', errors='replace') as outfile:\n",
    "            outfile.write(content)\n",
    "        print(f\"Re-encoded {input_path} from {original_encoding} to UTF-8 and saved as {output_path}\")\n",
    "    except Exception as e:\n",
    "        print(f\"Failed to re-encode {input_path}: {e}\")"
   ]
  },
  {
   "cell_type": "code",
   "execution_count": 22,
   "metadata": {},
   "outputs": [
    {
     "name": "stdout",
     "output_type": "stream",
     "text": [
      "Re-encoded ../Games/twic1503.pgn from latin-1 to UTF-8 and saved as ../Games/twic1503_utf8.pgn\n"
     ]
    }
   ],
   "source": [
    "reencode_file_to_utf8('../Games/twic1503.pgn', '../utf8_games/twic1503.pgn', original_encoding='latin-1')"
   ]
  },
  {
   "cell_type": "code",
   "execution_count": 27,
   "metadata": {},
   "outputs": [
    {
     "name": "stderr",
     "output_type": "stream",
     "text": [
      "2024-10-07 15:16:11,882 - INFO - Created output directory: '..\\utf8_huge_games'\n",
      "2024-10-07 15:16:11,882 - INFO - Created output directory: '..\\utf8_huge_games'\n",
      "2024-10-07 15:16:11,884 - INFO - Found 4 PGN file(s) in '..\\huge_games'. Starting re-encoding...\n",
      "2024-10-07 15:16:11,884 - INFO - Found 4 PGN file(s) in '..\\huge_games'. Starting re-encoding...\n"
     ]
    },
    {
     "name": "stdout",
     "output_type": "stream",
     "text": [
      "Re-encoded ..\\huge_games\\combined_games.pgn from latin-1 to UTF-8 and saved as ..\\utf8_huge_games\\combined_games.pgn\n",
      "Re-encoded ..\\huge_games\\corr2011pgn.pgn from latin-1 to UTF-8 and saved as ..\\utf8_huge_games\\corr2011pgn.pgn\n",
      "Re-encoded ..\\huge_games\\huge1pgn.pgn from latin-1 to UTF-8 and saved as ..\\utf8_huge_games\\huge1pgn.pgn\n"
     ]
    },
    {
     "name": "stderr",
     "output_type": "stream",
     "text": [
      "2024-10-07 15:16:29,314 - INFO - Re-encoding process completed.\n",
      "2024-10-07 15:16:29,314 - INFO - Re-encoding process completed.\n"
     ]
    },
    {
     "name": "stdout",
     "output_type": "stream",
     "text": [
      "Re-encoded ..\\huge_games\\huge2pgn.pgn from latin-1 to UTF-8 and saved as ..\\utf8_huge_games\\huge2pgn.pgn\n"
     ]
    }
   ],
   "source": [
    "import os\n",
    "import logging\n",
    "from pathlib import Path\n",
    "def setup_logging():\n",
    "    \"\"\"\n",
    "    Sets up logging to file and console.\n",
    "    \"\"\"\n",
    "    logger = logging.getLogger()\n",
    "    logger.setLevel(logging.INFO)\n",
    "\n",
    "    # Create handlers\n",
    "    c_handler = logging.StreamHandler()\n",
    "    f_handler = logging.FileHandler('reencode.log')\n",
    "\n",
    "    c_handler.setLevel(logging.INFO)\n",
    "    f_handler.setLevel(logging.INFO)\n",
    "\n",
    "    # Create formatters and add them to handlers\n",
    "    c_format = logging.Formatter('%(asctime)s - %(levelname)s - %(message)s')\n",
    "    f_format = logging.Formatter('%(asctime)s - %(levelname)s - %(message)s')\n",
    "\n",
    "    c_handler.setFormatter(c_format)\n",
    "    f_handler.setFormatter(f_format)\n",
    "\n",
    "    # Add handlers to the logger\n",
    "    logger.addHandler(c_handler)\n",
    "    logger.addHandler(f_handler)\n",
    "    \n",
    "    \n",
    "def main():\n",
    "    # Set up logging\n",
    "    setup_logging()\n",
    "\n",
    "    # Define the input and output directories\n",
    "    input_dir = Path('../huge_games')\n",
    "    output_dir = Path('../utf8_huge_games')\n",
    "\n",
    "    # Ensure the output directory exists\n",
    "    if not output_dir.exists():\n",
    "        try:\n",
    "            output_dir.mkdir(parents=True, exist_ok=True)\n",
    "            logging.info(f\"Created output directory: '{output_dir}'\")\n",
    "        except Exception as e:\n",
    "            logging.error(f\"Failed to create output directory '{output_dir}': {e}\")\n",
    "            return\n",
    "\n",
    "    # Iterate through all .pgn files in the input directory\n",
    "    pgn_files = list(input_dir.glob('*.pgn'))\n",
    "    if not pgn_files:\n",
    "        logging.warning(f\"No PGN files found in '{input_dir}'. Exiting.\")\n",
    "        return\n",
    "\n",
    "    logging.info(f\"Found {len(pgn_files)} PGN file(s) in '{input_dir}'. Starting re-encoding...\")\n",
    "\n",
    "    for pgn_file in pgn_files:\n",
    "        # Define the output file path\n",
    "        output_file = output_dir / pgn_file.name\n",
    "\n",
    "        # Check if the output file already exists to prevent overwriting\n",
    "        if output_file.exists():\n",
    "            logging.warning(f\"Output file '{output_file}' already exists. Skipping re-encoding for this file.\")\n",
    "            continue\n",
    "\n",
    "        # Re-encode the file\n",
    "        reencode_file_to_utf8(pgn_file, output_file, original_encoding='latin-1')\n",
    "\n",
    "    logging.info(\"Re-encoding process completed.\")\n",
    "\n",
    "if __name__ == \"__main__\":\n",
    "    main()"
   ]
  }
 ],
 "metadata": {
  "kernelspec": {
   "display_name": "guess_the_elo-env",
   "language": "python",
   "name": "python3"
  },
  "language_info": {
   "codemirror_mode": {
    "name": "ipython",
    "version": 3
   },
   "file_extension": ".py",
   "mimetype": "text/x-python",
   "name": "python",
   "nbconvert_exporter": "python",
   "pygments_lexer": "ipython3",
   "version": "3.12.7"
  }
 },
 "nbformat": 4,
 "nbformat_minor": 2
}
